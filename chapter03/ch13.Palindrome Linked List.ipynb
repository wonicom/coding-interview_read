{
 "cells": [
  {
   "cell_type": "markdown",
   "id": "f36c8bcf",
   "metadata": {},
   "source": [
    "<h2>Palindrome Linked List<h2>"
   ]
  },
  {
   "cell_type": "markdown",
   "id": "5d273d35",
   "metadata": {},
   "source": [
    "<h3>연결 리스트가 팰린드롬 구조인지 판별하라</h3>"
   ]
  },
  {
   "cell_type": "markdown",
   "id": "fddeeab4",
   "metadata": {},
   "source": [
    "01, 리스트 변환"
   ]
  },
  {
   "cell_type": "code",
   "execution_count": 2,
   "id": "1e0bbe06",
   "metadata": {},
   "outputs": [],
   "source": [
    "class ListNode:\n",
    "    def __init__(self, val=0, next=None):\n",
    "        self.val = val\n",
    "        self.next = next"
   ]
  },
  {
   "cell_type": "code",
   "execution_count": 3,
   "id": "a93912f5",
   "metadata": {},
   "outputs": [],
   "source": [
    "def isPalidrome(self, head: ListNode) -> bool :\n",
    "    q : List = []\n",
    "        \n",
    "    if not head :\n",
    "        return True\n",
    "    \n",
    "    node = head\n",
    "    \n",
    "    #리스트 변환\n",
    "    while node is not None:\n",
    "        q.append(node.val)\n",
    "        node = node.next\n",
    "        \n",
    "    #펠리드롬 판별\n",
    "    while len(q) > 1 :\n",
    "        if q.pop(0) != q.pop() :\n",
    "            return False\n",
    "    \n",
    "    return True"
   ]
  },
  {
   "cell_type": "markdown",
   "id": "aab88b49",
   "metadata": {},
   "source": [
    "02. 데크를 이용한 최적화"
   ]
  },
  {
   "cell_type": "code",
   "execution_count": 4,
   "id": "81f8a20b",
   "metadata": {},
   "outputs": [],
   "source": [
    "def isPalidrome(self, head: ListNode) -> bool :\n",
    "    #데크 자료형 선언\n",
    "    q: Deque = collections.deque()\n",
    "        \n",
    "    if not head:\n",
    "        return True\n",
    "    \n",
    "    node = head\n",
    "    while node is not None :\n",
    "        q.append(node.val)\n",
    "        node = node.next\n",
    "        \n",
    "    while len(q) > 1 :\n",
    "        if q.popleft() != q.pop() :\n",
    "            return False\n",
    "        \n",
    "    return True"
   ]
  },
  {
   "cell_type": "markdown",
   "id": "660ff834",
   "metadata": {},
   "source": [
    "04. 런너를 이용한 우아한 풀이"
   ]
  },
  {
   "cell_type": "code",
   "execution_count": 5,
   "id": "7e4a37d9",
   "metadata": {},
   "outputs": [],
   "source": [
    "def isPalindrome(self, head: ListNode) -> bool :\n",
    "    rev = None\n",
    "    slow = fast =head\n",
    "    #런너를 이용해 역순 연결 리스트 구성\n",
    "    while fast and fast.next :\n",
    "        fast = fast.next.next\n",
    "        rev, rev.next, slow = slow, rev, slow.next\n",
    "    if fast :\n",
    "        slow = slow.next\n",
    "        \n",
    "    #팰린드롬 여부 확인\n",
    "    while rev and rev.val == slow.val :\n",
    "        slow, rev = slow.next, rev.next\n",
    "    return not rev\n"
   ]
  },
  {
   "cell_type": "code",
   "execution_count": null,
   "id": "7781d6eb",
   "metadata": {},
   "outputs": [],
   "source": []
  }
 ],
 "metadata": {
  "kernelspec": {
   "display_name": "Python 3",
   "language": "python",
   "name": "python3"
  },
  "language_info": {
   "codemirror_mode": {
    "name": "ipython",
    "version": 3
   },
   "file_extension": ".py",
   "mimetype": "text/x-python",
   "name": "python",
   "nbconvert_exporter": "python",
   "pygments_lexer": "ipython3",
   "version": "3.8.8"
  }
 },
 "nbformat": 4,
 "nbformat_minor": 5
}
