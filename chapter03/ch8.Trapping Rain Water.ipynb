{
 "cells": [
  {
   "cell_type": "markdown",
   "id": "8542c95d",
   "metadata": {},
   "source": [
    "<h1>Trapping Rain Water</h1>"
   ]
  },
  {
   "cell_type": "markdown",
   "id": "43fb1437",
   "metadata": {},
   "source": [
    "<h3>높이를 입력받아 비 온 후 얼마나 많은 물이 쌓일 수 있는지 계산하라</h3>"
   ]
  },
  {
   "cell_type": "code",
   "execution_count": 3,
   "id": "1b7562b0",
   "metadata": {},
   "outputs": [],
   "source": [
    "height = [0,1,0,2,1,0,1,3,2,1,2,1]\n",
    "volume = 6"
   ]
  },
  {
   "cell_type": "markdown",
   "id": "f973eb00",
   "metadata": {},
   "source": [
    "---"
   ]
  },
  {
   "cell_type": "markdown",
   "id": "48d1881e",
   "metadata": {},
   "source": [
    "01.투 포인터를 최대로 이동"
   ]
  },
  {
   "cell_type": "code",
   "execution_count": 6,
   "id": "4c99f4eb",
   "metadata": {},
   "outputs": [],
   "source": [
    "from typing import List\n",
    "\n",
    "def trap(self, height: List[int]) -> int :\n",
    "    if not height:\n",
    "        return 0\n",
    "    \n",
    "    volume = 0\n",
    "    left, right = 0, len(height) - 1\n",
    "    left_max, right_max = height[left], height[right]\n",
    "    \n",
    "    while left < right:\n",
    "        left_max, right_max = max(height[left], left_max), max(height[right], right_max)\n",
    "        #더 높은 쪽을 향해 투 포인터 이동\n",
    "        if left_max <= right_max :\n",
    "            volume += left_max - height[left]\n",
    "            left += 1\n",
    "        else :\n",
    "            volume += right_max - height[right]\n",
    "            right -= 1\n",
    "        return volume"
   ]
  },
  {
   "cell_type": "markdown",
   "id": "3bdbaafb",
   "metadata": {},
   "source": [
    "---"
   ]
  },
  {
   "cell_type": "markdown",
   "id": "845b9888",
   "metadata": {},
   "source": [
    "02. 스텍 쌓기"
   ]
  },
  {
   "cell_type": "code",
   "execution_count": 7,
   "id": "42ecf698",
   "metadata": {},
   "outputs": [],
   "source": [
    "def trap(self, height: List[int]) -> int:\n",
    "    stack = []\n",
    "    volume = 0\n",
    "    \n",
    "    for i in range(len(height)) :\n",
    "        #변곡점을 만나는 경우\n",
    "        while stack and height[i] > height[stack[-1]]:\n",
    "            #현재 높이가 스택의 가장 위에 있는 기둥보다 높은 동안 반복합니다.\n",
    "            #스텍을 꺼낸다\n",
    "            top = stack.pop()\n",
    "            \n",
    "            if not len(stack) :\n",
    "                break\n",
    "                \n",
    "            #이전과의 차이만큼 물 높이 처리\n",
    "            #현재 위치 'i'와 스택의 가장 위에 있는 기둥 사이의 거리를 계산합니다.\n",
    "            distance = i - stack[-1] - 1\n",
    "            #현재 위치 'i'와 스택의 가장 위에 있는 기둥 중에서 더 낮은 높이를 선택하고,\n",
    "            #그 높이에서 현재 꺼낸 기둥의 높이를 뺀 값을 'waters'에 저장합니다.\n",
    "            waters = min(height[i], height[stack[-1]]) - height[top]\n",
    "            \n",
    "            volume += distance*water\n",
    "            \n",
    "        stack.append()\n",
    "    return volume"
   ]
  }
 ],
 "metadata": {
  "kernelspec": {
   "display_name": "Python 3",
   "language": "python",
   "name": "python3"
  },
  "language_info": {
   "codemirror_mode": {
    "name": "ipython",
    "version": 3
   },
   "file_extension": ".py",
   "mimetype": "text/x-python",
   "name": "python",
   "nbconvert_exporter": "python",
   "pygments_lexer": "ipython3",
   "version": "3.8.8"
  }
 },
 "nbformat": 4,
 "nbformat_minor": 5
}
