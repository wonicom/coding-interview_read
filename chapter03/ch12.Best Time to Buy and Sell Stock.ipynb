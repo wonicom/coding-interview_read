{
 "cells": [
  {
   "cell_type": "markdown",
   "id": "d4f57c9e",
   "metadata": {},
   "source": [
    "<h1>Best Time to Buy and Sell Stock</h1>"
   ]
  },
  {
   "cell_type": "markdown",
   "id": "e0bd9579",
   "metadata": {},
   "source": [
    "<h3>한 번의 거래로 낼 수 있는 최대 이익을 산출하라</h3>"
   ]
  },
  {
   "cell_type": "code",
   "execution_count": 2,
   "id": "a216b2a6",
   "metadata": {},
   "outputs": [],
   "source": [
    "prices = [7,1,5,3,6,4]\n",
    "out = 5"
   ]
  },
  {
   "cell_type": "markdown",
   "id": "be57d14a",
   "metadata": {},
   "source": [
    "---"
   ]
  },
  {
   "cell_type": "markdown",
   "id": "9a2ba7c3",
   "metadata": {},
   "source": [
    "01.브루트 포스로 계산"
   ]
  },
  {
   "cell_type": "code",
   "execution_count": 3,
   "id": "1d7a2531",
   "metadata": {},
   "outputs": [],
   "source": [
    "from typing import List\n",
    "\n",
    "def maxProfit(prices: List[int]) -> int :\n",
    "    max_price = 0\n",
    "    \n",
    "    for i, price in enumerate(price) :\n",
    "        for j in range(i, len(prices)) :\n",
    "            max_price = max(price[j] - price, max_price)\n",
    "            \n",
    "    return max_price"
   ]
  },
  {
   "cell_type": "markdown",
   "id": "8feb61e0",
   "metadata": {},
   "source": [
    "---"
   ]
  },
  {
   "cell_type": "markdown",
   "id": "d067cb49",
   "metadata": {},
   "source": [
    "02.저점과 현재 값과의 차이 계산"
   ]
  },
  {
   "cell_type": "code",
   "execution_count": 12,
   "id": "e99be0d1",
   "metadata": {},
   "outputs": [],
   "source": [
    "import sys\n",
    "\n",
    "def maxProfit(prices: List[int]) -> int :\n",
    "    #변수 초기화\n",
    "    profit = 0\n",
    "    min_price = sys.maxsize #처음에는 최대 정수값으로 설정\n",
    "    \n",
    "    #최솟값과 최댓값을 계속 갱신\n",
    "    for price in prices:\n",
    "        #현재까지 만나본 최소 가격을 업데이트\n",
    "        min_price = min(min_price, price)\n",
    "        \n",
    "        #높은 이익을 찾으면 이익을 업데이트\n",
    "        profit = max(profit, price - min_price)\n",
    "        \n",
    "    return profit"
   ]
  }
 ],
 "metadata": {
  "kernelspec": {
   "display_name": "Python 3",
   "language": "python",
   "name": "python3"
  },
  "language_info": {
   "codemirror_mode": {
    "name": "ipython",
    "version": 3
   },
   "file_extension": ".py",
   "mimetype": "text/x-python",
   "name": "python",
   "nbconvert_exporter": "python",
   "pygments_lexer": "ipython3",
   "version": "3.8.8"
  }
 },
 "nbformat": 4,
 "nbformat_minor": 5
}
