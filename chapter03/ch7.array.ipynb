{
 "cells": [
  {
   "cell_type": "markdown",
   "id": "cf97b343",
   "metadata": {},
   "source": [
    "덧셈하여 타겟을 만들 수 있는 배열의 두 숫자 인덱스를 리턴하라"
   ]
  },
  {
   "cell_type": "code",
   "execution_count": 3,
   "id": "2d125429",
   "metadata": {},
   "outputs": [],
   "source": [
    "nums = [2, 7, 11, 15]\n",
    "target = 9"
   ]
  },
  {
   "cell_type": "markdown",
   "id": "6604d88a",
   "metadata": {},
   "source": [
    "---"
   ]
  },
  {
   "cell_type": "markdown",
   "id": "9fa5c79a",
   "metadata": {},
   "source": [
    "01.브루트 포스(무차별 대입 방식)"
   ]
  },
  {
   "cell_type": "code",
   "execution_count": 5,
   "id": "12861580",
   "metadata": {},
   "outputs": [],
   "source": [
    "from typing import List\n",
    "\n",
    "def twoSum(self, nums: List[int], target: int) -> List[int] :\n",
    "    for i in range(len(nums)) :\n",
    "        for j in range(i + 1, len(nums)) :\n",
    "            if nums[i] + nums[j] == target :\n",
    "                return [i,j]"
   ]
  },
  {
   "cell_type": "markdown",
   "id": "63ac5857",
   "metadata": {},
   "source": [
    "---"
   ]
  },
  {
   "cell_type": "markdown",
   "id": "0d1ccfdb",
   "metadata": {},
   "source": [
    "02.in을 이용한 탐색"
   ]
  },
  {
   "cell_type": "code",
   "execution_count": 8,
   "id": "91af0e9d",
   "metadata": {},
   "outputs": [],
   "source": [
    "from typing import List\n",
    "\n",
    "class Solution:\n",
    "    def twoSum(self, nums: List[int], target: int) -> List[int]:\n",
    "        for i, n in enumerate(nums):\n",
    "            complement = target - n\n",
    "            if complement in nums[i + 1:]:\n",
    "                return [i, nums.index(complement, i + 1)]"
   ]
  },
  {
   "cell_type": "markdown",
   "id": "a62118cc",
   "metadata": {},
   "source": [
    "---"
   ]
  },
  {
   "cell_type": "markdown",
   "id": "98088fec",
   "metadata": {},
   "source": [
    "03.첫 번째 수를 뺀 결과 키 조회"
   ]
  },
  {
   "cell_type": "code",
   "execution_count": 9,
   "id": "80d1ebb7",
   "metadata": {},
   "outputs": [],
   "source": [
    "def twoSum(self, nums:List[int], target: int) -> List[int] :\n",
    "    nums_map = {}\n",
    "    #키와 값을 바꿔서 딕셔너리로 저장\n",
    "    for i, num in enumerate(nums) :\n",
    "        nums_map[num] = i\n",
    "        \n",
    "    #타겟에서 첫 번째 수를 뺀 결과를 키로 조회\n",
    "    for i, num in enumerate(nums):\n",
    "        if target - num in nums_map and i != nums_map[target - num]:\n",
    "            return [i, nums_map[target - num]]"
   ]
  },
  {
   "cell_type": "markdown",
   "id": "2ac94bbf",
   "metadata": {},
   "source": [
    "---"
   ]
  },
  {
   "cell_type": "markdown",
   "id": "c851b690",
   "metadata": {},
   "source": [
    "04.조회 구조 개선"
   ]
  },
  {
   "cell_type": "code",
   "execution_count": 10,
   "id": "e7478cb6",
   "metadata": {},
   "outputs": [],
   "source": [
    "def twoSum(self, nums: List[int], target: int) -> List[int]:\n",
    "    nums_map = {}\n",
    "    #하나의 for 문으로 통합\n",
    "    for i, num in enumerate(nums) :\n",
    "        if target - num in nums_map :\n",
    "            return [nums_map[target - num], i]\n",
    "        nums_map[num] = i"
   ]
  },
  {
   "cell_type": "markdown",
   "id": "db066f55",
   "metadata": {},
   "source": [
    "---"
   ]
  },
  {
   "cell_type": "markdown",
   "id": "d81c9d4c",
   "metadata": {},
   "source": [
    "05.투 포인트 이용"
   ]
  },
  {
   "cell_type": "code",
   "execution_count": 12,
   "id": "9984e65d",
   "metadata": {},
   "outputs": [],
   "source": [
    "def twoSum(self, nums: List[int], target: int) -> List[int] :\n",
    "    left, right = 0, len(nums) - 1\n",
    "    while not left == right:\n",
    "        #합이 타겟보다 작으면 왼쪽 포인트를 오른쪽으로\n",
    "        if nums[left] + nums[right] < target:\n",
    "            left += 1\n",
    "        #합이 타겟보다 크면 오른쪽 포인트를 왼쪽으로\n",
    "        elif nums[left] + nums[right] > target :\n",
    "            right -= 1\n",
    "        else:\n",
    "            return [left, right]\n",
    "        \n",
    "#하지만 정렬이 되어있지 않은 이상 이렇게 못하고 해당 문제는 인덱스를 찾는 문제이기 때문에 정렬로 섞어버리면 안됨"
   ]
  },
  {
   "cell_type": "markdown",
   "id": "bca074d9",
   "metadata": {},
   "source": [
    "---"
   ]
  }
 ],
 "metadata": {
  "kernelspec": {
   "display_name": "Python 3",
   "language": "python",
   "name": "python3"
  },
  "language_info": {
   "codemirror_mode": {
    "name": "ipython",
    "version": 3
   },
   "file_extension": ".py",
   "mimetype": "text/x-python",
   "name": "python",
   "nbconvert_exporter": "python",
   "pygments_lexer": "ipython3",
   "version": "3.8.8"
  }
 },
 "nbformat": 4,
 "nbformat_minor": 5
}
