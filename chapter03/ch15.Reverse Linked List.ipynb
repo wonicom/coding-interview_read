{
 "cells": [
  {
   "cell_type": "markdown",
   "id": "0c0e608f",
   "metadata": {},
   "source": [
    "<h2>Reverse Linked List</h2>"
   ]
  },
  {
   "cell_type": "markdown",
   "id": "17b53acf",
   "metadata": {},
   "source": [
    "<h3>연결 리스트를 뒤집어라.</h3>"
   ]
  },
  {
   "cell_type": "markdown",
   "id": "3f0acb71",
   "metadata": {},
   "source": [
    "01.재귀 구조로 뒤집기"
   ]
  },
  {
   "cell_type": "code",
   "execution_count": 4,
   "id": "76c4373b",
   "metadata": {},
   "outputs": [],
   "source": [
    "class ListNode:\n",
    "    def __init__(self, val=0, next=None):\n",
    "        self.val = val\n",
    "        self.next = next"
   ]
  },
  {
   "cell_type": "code",
   "execution_count": 5,
   "id": "2d073b9f",
   "metadata": {},
   "outputs": [],
   "source": [
    "def reverseList(self, head: ListNode) -> ListNode:\n",
    "    def reverse(node: ListNode, prev: ListNode = None) :\n",
    "        if not node:\n",
    "            return prev\n",
    "        next, node.next = node.next, prev\n",
    "        return reverse(next, node)\n",
    "\n",
    "    return reverse(head)"
   ]
  },
  {
   "cell_type": "markdown",
   "id": "baefd4f6",
   "metadata": {},
   "source": [
    "---"
   ]
  },
  {
   "cell_type": "markdown",
   "id": "217badff",
   "metadata": {},
   "source": [
    "02. 반복 구조로 뒤집기"
   ]
  },
  {
   "cell_type": "code",
   "execution_count": 6,
   "id": "b4a386d7",
   "metadata": {},
   "outputs": [],
   "source": [
    "def reverseList(self, head: ListNode) -> ListNode:\n",
    "    #현재 노드와 이전 노드를 초기화합니다.\n",
    "    node, prev = head, None\n",
    "    \n",
    "    #노드가 존재하는 동안 반복합니다.\n",
    "    while node :\n",
    "        #다음 노드를 임시로 저장하고, 현재 노드의 다음 노드를 이전 노드로 변경합니다.\n",
    "        next, node.next = node.next, prev\n",
    "        #이전 노드를 현재 노드로, 현재 노드를 다음 노드로 이동합니다.\n",
    "        prev, node = node, next\n",
    "        \n",
    "    #이전 노드가 역순으로 연결된 리스트의 새로운 헤드가 됩니다.    \n",
    "    return prev"
   ]
  }
 ],
 "metadata": {
  "kernelspec": {
   "display_name": "Python 3",
   "language": "python",
   "name": "python3"
  },
  "language_info": {
   "codemirror_mode": {
    "name": "ipython",
    "version": 3
   },
   "file_extension": ".py",
   "mimetype": "text/x-python",
   "name": "python",
   "nbconvert_exporter": "python",
   "pygments_lexer": "ipython3",
   "version": "3.8.8"
  }
 },
 "nbformat": 4,
 "nbformat_minor": 5
}
