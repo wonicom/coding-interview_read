{
 "cells": [
  {
   "cell_type": "markdown",
   "id": "6b5bc380",
   "metadata": {},
   "source": [
    "<h2>Merge Two Sorted Lists</h2>"
   ]
  },
  {
   "cell_type": "markdown",
   "id": "7156714e",
   "metadata": {},
   "source": [
    "<h3>정렬되어 있는 두 연결 리스트를 합쳐라</h3>"
   ]
  },
  {
   "cell_type": "markdown",
   "id": "f87654a1",
   "metadata": {},
   "source": [
    "01.재귀 구조 연결"
   ]
  },
  {
   "cell_type": "code",
   "execution_count": 5,
   "id": "10c031c7",
   "metadata": {},
   "outputs": [],
   "source": [
    "class ListNode:\n",
    "    def __init__(self, val=0, next=None):\n",
    "        self.val = val\n",
    "        self.next = next\n",
    "\n",
    "class Solution:\n",
    "    def mergeTwoLists(self, l1: ListNode, l2: ListNode) -> ListNode:\n",
    "        # 둘 중 하나가 None이면, 다른 하나를 반환\n",
    "        if not l1:\n",
    "            return l2\n",
    "        if not l2:\n",
    "            return l1\n",
    "        \n",
    "        # l1이 l2보다 작거나 같으면 l1을 유지하고 l1의 다음 노드와 l2를 비교하여 merge 수행\n",
    "        if l1.val <= l2.val:\n",
    "            l1.next = self.mergeTwoLists(l1.next, l2)\n",
    "            return l1\n",
    "        else:\n",
    "            # l2가 l1보다 작으면 l2를 유지하고 l2의 다음 노드와 l1을 비교하여 merge 수행\n",
    "            l2.next = self.mergeTwoLists(l1, l2.next)\n",
    "            return l2"
   ]
  }
 ],
 "metadata": {
  "kernelspec": {
   "display_name": "Python 3",
   "language": "python",
   "name": "python3"
  },
  "language_info": {
   "codemirror_mode": {
    "name": "ipython",
    "version": 3
   },
   "file_extension": ".py",
   "mimetype": "text/x-python",
   "name": "python",
   "nbconvert_exporter": "python",
   "pygments_lexer": "ipython3",
   "version": "3.8.8"
  }
 },
 "nbformat": 4,
 "nbformat_minor": 5
}
