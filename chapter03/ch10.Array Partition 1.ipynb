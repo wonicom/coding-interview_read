{
 "cells": [
  {
   "cell_type": "markdown",
   "id": "b4ae51cd",
   "metadata": {},
   "source": [
    "<h1>Array Partition 1</h1>"
   ]
  },
  {
   "cell_type": "markdown",
   "id": "d64c37b4",
   "metadata": {},
   "source": [
    "<h3>n개의 페어를 이용한 min(a,b)의 합으로 만들 수 있는 가장 큰 수를 출력하라</h3>"
   ]
  },
  {
   "cell_type": "code",
   "execution_count": 3,
   "id": "4a70e9ef",
   "metadata": {},
   "outputs": [],
   "source": [
    "nums = [1,4,3,2]\n",
    "sum = 4"
   ]
  },
  {
   "cell_type": "markdown",
   "id": "fd83dd32",
   "metadata": {},
   "source": [
    "---"
   ]
  },
  {
   "cell_type": "markdown",
   "id": "ee03c09b",
   "metadata": {},
   "source": [
    "01.오름차순 풀이"
   ]
  },
  {
   "cell_type": "code",
   "execution_count": 9,
   "id": "14fa4425",
   "metadata": {},
   "outputs": [],
   "source": [
    "from typing import List\n",
    "\n",
    "def arrayPairSum(nums: List[int]) -> int:\n",
    "    sum = 0\n",
    "    pair = []\n",
    "    nums.sort()\n",
    "    \n",
    "    for n in nums:\n",
    "        #앞에서부터 오름차순으로 페어를 만들어서 합 계산\n",
    "        pair.append(n)\n",
    "        if len(pair) == 2:\n",
    "            sum += min(pair)\n",
    "            pair = []\n",
    "            \n",
    "    return sum"
   ]
  },
  {
   "cell_type": "markdown",
   "id": "aab10f63",
   "metadata": {},
   "source": [
    "---"
   ]
  },
  {
   "cell_type": "markdown",
   "id": "652181a8",
   "metadata": {},
   "source": [
    "02.짝수 번째 값 계산"
   ]
  },
  {
   "cell_type": "code",
   "execution_count": 20,
   "id": "ae277dd6",
   "metadata": {},
   "outputs": [],
   "source": [
    "def arrayPairSum(nums: List[int]) -> int :\n",
    "    sum = 0\n",
    "    nums.sort()\n",
    "    \n",
    "    for i,n in enumerate(nums) :\n",
    "        #짝수 번째 값의 합 계산\n",
    "        if i%2 == 0:\n",
    "            sum += n\n",
    "            print(sum)\n",
    "            \n",
    "    return sum"
   ]
  },
  {
   "cell_type": "markdown",
   "id": "1126264e",
   "metadata": {},
   "source": [
    "---"
   ]
  },
  {
   "cell_type": "markdown",
   "id": "1363f14f",
   "metadata": {},
   "source": [
    "03.파이썬다운 방식"
   ]
  },
  {
   "cell_type": "code",
   "execution_count": 23,
   "id": "7a44aeb7",
   "metadata": {},
   "outputs": [],
   "source": [
    "def arrayPairSum(nums:List[int]) -> int:\n",
    "    return sum(sorted(nums)[::2])"
   ]
  }
 ],
 "metadata": {
  "kernelspec": {
   "display_name": "Python 3",
   "language": "python",
   "name": "python3"
  },
  "language_info": {
   "codemirror_mode": {
    "name": "ipython",
    "version": 3
   },
   "file_extension": ".py",
   "mimetype": "text/x-python",
   "name": "python",
   "nbconvert_exporter": "python",
   "pygments_lexer": "ipython3",
   "version": "3.8.8"
  }
 },
 "nbformat": 4,
 "nbformat_minor": 5
}
